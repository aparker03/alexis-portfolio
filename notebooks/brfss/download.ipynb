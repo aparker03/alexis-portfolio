{
 "cells": [
  {
   "cell_type": "markdown",
   "id": "fff0f685-84f9-4e15-a22f-865b826cfec6",
   "metadata": {
    "id": "fff0f685-84f9-4e15-a22f-865b826cfec6"
   },
   "source": [
    "# Downloading, Extracting, and Converting BRFSS Data (2022)\n",
    "\n",
    "This notebook retrieves the 2022 Behavioral Risk Factor Surveillance System (BRFSS) dataset from the CDC. The dataset is provided in SAS Transport Format (`.XPT`), which we convert to CSV format for further analysis.\n",
    "\n",
    "The process includes:\n",
    "- Downloading the `.zip` archive from the CDC website (only if not already downloaded)\n",
    "- Extracting the `.XPT` file from the archive\n",
    "  - If the filename contains leading or trailing spaces, it is automatically renamed\n",
    "- Converting the `.XPT` file to a `.csv` file (`brfss_2022.csv`) using fallback encodings if necessary\n",
    "- Cleaning up intermediate files (`.zip` and `.XPT`) after successful conversion\n",
    "\n",
    "This step prepares the raw BRFSS data for exploration and analysis in later notebooks.\n",
    "\n",
    "**Source**: [CDC BRFSS Annual Data 2022](https://www.cdc.gov/brfss/annual_data/2022/files/LLCP2022XPT.zip)\n"
   ]
  },
  {
   "cell_type": "code",
   "execution_count": 1,
   "id": "1b0880da-39e5-4ff4-a8ed-4953b3da1a23",
   "metadata": {
    "id": "1b0880da-39e5-4ff4-a8ed-4953b3da1a23"
   },
   "outputs": [],
   "source": [
    "import os\n",
    "import zipfile\n",
    "import requests\n",
    "import pandas as pd\n",
    "import pyreadstat  # Required for converting .XPT to .CSV"
   ]
  },
  {
   "cell_type": "markdown",
   "id": "e4fd58de-6fff-4761-9225-7fe235bdad86",
   "metadata": {},
   "source": [
    "### Download Setup\n",
    "\n",
    "The following cell defines the source URL for the 2022 BRFSS dataset and sets up the local paths for storing the downloaded ZIP file, extracted data, and converted CSV. It also ensures that the output directory exists before any files are saved."
   ]
  },
  {
   "cell_type": "code",
   "execution_count": 2,
   "id": "164cfef4-40f4-4dc8-9b6f-caf96fa7e3e7",
   "metadata": {
    "id": "164cfef4-40f4-4dc8-9b6f-caf96fa7e3e7"
   },
   "outputs": [],
   "source": [
    "# Define paths\n",
    "url = \"https://www.cdc.gov/brfss/annual_data/2022/files/LLCP2022XPT.zip\"\n",
    "zip_path = \"data/LLCP2022XPT.zip\"\n",
    "extract_dir = \"data\"\n",
    "csv_file = os.path.join(extract_dir, \"brfss_2022.csv\")\n",
    "\n",
    "# Ensure 'data/' directory exists\n",
    "os.makedirs(extract_dir, exist_ok=True)"
   ]
  },
  {
   "cell_type": "code",
   "execution_count": 3,
   "id": "d6bac996-d78e-462d-baf1-22ae5acbc296",
   "metadata": {
    "id": "d6bac996-d78e-462d-baf1-22ae5acbc296"
   },
   "outputs": [],
   "source": [
    "# Function to download the ZIP file\n",
    "def download_file(url, filename):\n",
    "    print(\"Downloading BRFSS 2022 data... This may take a while.\")\n",
    "    response = requests.get(url, stream=True)\n",
    "    with open(filename, \"wb\") as file:\n",
    "        for chunk in response.iter_content(chunk_size=1024):\n",
    "            file.write(chunk)\n",
    "    print(\"Download complete.\")"
   ]
  },
  {
   "cell_type": "code",
   "execution_count": 4,
   "id": "93033e5f-e594-41d6-87f8-04be95296391",
   "metadata": {
    "id": "93033e5f-e594-41d6-87f8-04be95296391"
   },
   "outputs": [],
   "source": [
    "# Function to extract ZIP file and find the .XPT file\n",
    "def extract_xpt_from_zip(zip_path, extract_dir):\n",
    "    \"\"\"\n",
    "    Extracts an .XPT file from a ZIP archive while handling spaces in filenames,\n",
    "    renaming files if necessary, and ensuring proper file management.\n",
    "\n",
    "    Args:\n",
    "        zip_path (str): Path to the ZIP file.\n",
    "        extract_dir (str): Directory where files will be extracted.\n",
    "\n",
    "    Returns:\n",
    "        str: Path to the extracted .XPT file, or None if extraction fails.\n",
    "    \"\"\"\n",
    "    print(\"Extracting dataset...\")\n",
    "\n",
    "    # Ensure the extraction directory exists; create it if necessary\n",
    "    os.makedirs(extract_dir, exist_ok=True)\n",
    "\n",
    "    # Extract all files from the ZIP archive\n",
    "    with zipfile.ZipFile(zip_path, 'r') as zip_ref:\n",
    "        zip_ref.extractall(extract_dir)\n",
    "\n",
    "    # Get a list of extracted files\n",
    "    extracted_files = os.listdir(extract_dir)\n",
    "    xpt_file_path = None  # Variable to store the final .XPT file path\n",
    "\n",
    "    for file in extracted_files:\n",
    "        old_path = os.path.join(extract_dir, file)  # Original extracted file path\n",
    "        new_path = os.path.join(extract_dir, file.strip())  # Trim spaces from filename\n",
    "\n",
    "        # Rename the file if it had leading/trailing spaces\n",
    "        if old_path != new_path:\n",
    "            os.rename(old_path, new_path)\n",
    "\n",
    "        # Identify and store the path of the .XPT file\n",
    "        if new_path.lower().endswith(\".xpt\"):\n",
    "            xpt_file_path = new_path\n",
    "\n",
    "    # Check if the .XPT file was found and exists\n",
    "    if not xpt_file_path or not os.path.exists(xpt_file_path):\n",
    "        print(\"Error: XPT file extraction failed.\")\n",
    "        return None\n",
    "\n",
    "    return xpt_file_path  # Return the cleaned-up .XPT file path"
   ]
  },
  {
   "cell_type": "markdown",
   "id": "44f56114-4c39-4591-b647-7fd98d1f96b9",
   "metadata": {},
   "source": [
    "This function extracts and cleans up the `.XPT` file from the ZIP archive, renaming it if needed."
   ]
  },
  {
   "cell_type": "code",
   "execution_count": 5,
   "id": "4261b276-05e1-4fad-862d-3efc1bc58783",
   "metadata": {
    "id": "4261b276-05e1-4fad-862d-3efc1bc58783"
   },
   "outputs": [],
   "source": [
    "# Function to convert XPT to CSV with error handling\n",
    "def convert_xpt_to_csv(xpt_file, csv_file):\n",
    "    if xpt_file and os.path.exists(xpt_file):\n",
    "        print(\"Converting .XPT file to .CSV...\")\n",
    "        try:\n",
    "            df, meta = pyreadstat.read_xport(xpt_file, encoding=\"latin1\")  # Try Latin-1 encoding\n",
    "            df.to_csv(csv_file, index=False)\n",
    "            print(f\"Conversion complete. CSV saved as: {csv_file}\")\n",
    "        except UnicodeDecodeError:\n",
    "            print(\"Error: UnicodeDecodeError occurred. Trying an alternative encoding...\")\n",
    "            try:\n",
    "                df, meta = pyreadstat.read_xport(xpt_file, encoding=\"windows-1252\")  # Try Windows-1252\n",
    "                df.to_csv(csv_file, index=False)\n",
    "                print(f\"Conversion complete using Windows-1252. CSV saved as: {csv_file}\")\n",
    "            except Exception as e:\n",
    "                print(f\"Critical Error: Could not convert XPT file. Error: {e}\")\n",
    "                return False\n",
    "    else:\n",
    "        print(\"Error: XPT file not found or extraction failed.\")\n",
    "        return False\n",
    "    return True"
   ]
  },
  {
   "cell_type": "markdown",
   "id": "53c7a459-c6fd-428a-abe3-fe83394e232f",
   "metadata": {},
   "source": [
    "### Run Download and Conversion Pipeline\n",
    "\n",
    "This block checks whether the CSV file already exists. If not, it downloads the ZIP file, extracts the `.XPT`, converts it to CSV, and removes intermediate files.\n"
   ]
  },
  {
   "cell_type": "code",
   "execution_count": 6,
   "id": "90d29d80-b920-4554-819f-358a4d54f41a",
   "metadata": {
    "id": "90d29d80-b920-4554-819f-358a4d54f41a",
    "outputId": "170cee68-0fb8-40a8-fc56-6b157f5a6eaa"
   },
   "outputs": [
    {
     "name": "stdout",
     "output_type": "stream",
     "text": [
      "Downloading BRFSS 2022 data... This may take a while.\n",
      "Download complete.\n",
      "Extracting dataset...\n",
      "Converting .XPT file to .CSV...\n",
      "Conversion complete. CSV saved as: data/brfss_2022.csv\n",
      "Clean-up complete: ZIP and XPT files removed.\n"
     ]
    }
   ],
   "source": [
    "# Download the file if it doesn't exist\n",
    "if not os.path.exists(csv_file):  # Only download if CSV doesn't exist\n",
    "    download_file(url, zip_path)\n",
    "\n",
    "    # Extract XPT file\n",
    "    xpt_file = extract_xpt_from_zip(zip_path, extract_dir)\n",
    "\n",
    "    if xpt_file is None:\n",
    "        print(\"Extraction failed. Please check the extracted files in the 'data' directory.\")\n",
    "        exit(1)  # Stop execution since we don't have an XPT file\n",
    "\n",
    "    # Convert to CSV\n",
    "    conversion_success = convert_xpt_to_csv(xpt_file, csv_file)\n",
    "\n",
    "    if conversion_success:\n",
    "        # Remove only the downloaded ZIP and extracted XPT file, keep other files in `data/`\n",
    "        os.remove(zip_path)\n",
    "        os.remove(xpt_file)\n",
    "        print(\"Clean-up complete: ZIP and XPT files removed.\")\n",
    "\n",
    "else:\n",
    "    print(\"CSV file already exists. No action needed.\")"
   ]
  },
  {
   "cell_type": "markdown",
   "id": "bUJeSdJtt3jw",
   "metadata": {
    "id": "bUJeSdJtt3jw"
   },
   "source": [
    "## Record Dependencies"
   ]
  },
  {
   "cell_type": "code",
   "execution_count": 7,
   "id": "6c7a796d-199f-41ca-a248-d6a5445b1574",
   "metadata": {
    "id": "6c7a796d-199f-41ca-a248-d6a5445b1574",
    "outputId": "0bacacb7-3cf6-4482-946f-7b437e4d5ac8"
   },
   "outputs": [
    {
     "name": "stdout",
     "output_type": "stream",
     "text": [
      "Last updated: 2025-02-17T02:27:29.648436+00:00\n",
      "\n",
      "Python implementation: CPython\n",
      "Python version       : 3.10.11\n",
      "IPython version      : 8.17.2\n",
      "\n",
      "Compiler    : GCC 11.3.0\n",
      "OS          : Linux\n",
      "Release     : 6.5.0-1020-aws\n",
      "Machine     : x86_64\n",
      "Processor   : x86_64\n",
      "CPU cores   : 64\n",
      "Architecture: 64bit\n",
      "\n",
      "requests  : 2.31.0\n",
      "pandas    : 2.0.2\n",
      "pyreadstat: 1.2.8\n",
      "\n"
     ]
    }
   ],
   "source": [
    "%load_ext watermark\n",
    "%watermark\n",
    "%watermark --iversions"
   ]
  },
  {
   "cell_type": "code",
   "execution_count": null,
   "id": "9c02a1c4-7a2e-4f34-8c85-327aa2b5f7bf",
   "metadata": {},
   "outputs": [],
   "source": []
  }
 ],
 "metadata": {
  "colab": {
   "provenance": []
  },
  "kernelspec": {
   "display_name": "Python 3 (ipykernel)",
   "language": "python",
   "name": "python3"
  },
  "language_info": {
   "codemirror_mode": {
    "name": "ipython",
    "version": 3
   },
   "file_extension": ".py",
   "mimetype": "text/x-python",
   "name": "python",
   "nbconvert_exporter": "python",
   "pygments_lexer": "ipython3",
   "version": "3.12.7"
  }
 },
 "nbformat": 4,
 "nbformat_minor": 5
}
